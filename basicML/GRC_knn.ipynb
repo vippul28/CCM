{
 "cells": [
  {
   "cell_type": "code",
   "execution_count": 4,
   "metadata": {},
   "outputs": [],
   "source": [
    "import matplotlib.pyplot as plt\n",
    "import numpy as np\n",
    "import pandas as pd\n",
    "%matplotlib inline"
   ]
  },
  {
   "cell_type": "code",
   "execution_count": 5,
   "metadata": {},
   "outputs": [
    {
     "data": {
      "text/html": [
       "<div>\n",
       "<style scoped>\n",
       "    .dataframe tbody tr th:only-of-type {\n",
       "        vertical-align: middle;\n",
       "    }\n",
       "\n",
       "    .dataframe tbody tr th {\n",
       "        vertical-align: top;\n",
       "    }\n",
       "\n",
       "    .dataframe thead th {\n",
       "        text-align: right;\n",
       "    }\n",
       "</style>\n",
       "<table border=\"1\" class=\"dataframe\">\n",
       "  <thead>\n",
       "    <tr style=\"text-align: right;\">\n",
       "      <th></th>\n",
       "      <th>Erm/Sci</th>\n",
       "      <th>Scm/Po</th>\n",
       "      <th>conf</th>\n",
       "      <th>strain</th>\n",
       "    </tr>\n",
       "  </thead>\n",
       "  <tbody>\n",
       "    <tr>\n",
       "      <th>0</th>\n",
       "      <td>39.76</td>\n",
       "      <td>0.1</td>\n",
       "      <td>100</td>\n",
       "      <td>0.0</td>\n",
       "    </tr>\n",
       "    <tr>\n",
       "      <th>1</th>\n",
       "      <td>39.76</td>\n",
       "      <td>0.1</td>\n",
       "      <td>90</td>\n",
       "      <td>0.0</td>\n",
       "    </tr>\n",
       "    <tr>\n",
       "      <th>2</th>\n",
       "      <td>39.76</td>\n",
       "      <td>0.1</td>\n",
       "      <td>80</td>\n",
       "      <td>0.0</td>\n",
       "    </tr>\n",
       "    <tr>\n",
       "      <th>3</th>\n",
       "      <td>39.76</td>\n",
       "      <td>0.1</td>\n",
       "      <td>70</td>\n",
       "      <td>0.0</td>\n",
       "    </tr>\n",
       "    <tr>\n",
       "      <th>4</th>\n",
       "      <td>39.76</td>\n",
       "      <td>0.1</td>\n",
       "      <td>60</td>\n",
       "      <td>0.0</td>\n",
       "    </tr>\n",
       "  </tbody>\n",
       "</table>\n",
       "</div>"
      ],
      "text/plain": [
       "   Erm/Sci  Scm/Po  conf  strain\n",
       "0    39.76     0.1   100     0.0\n",
       "1    39.76     0.1    90     0.0\n",
       "2    39.76     0.1    80     0.0\n",
       "3    39.76     0.1    70     0.0\n",
       "4    39.76     0.1    60     0.0"
      ]
     },
     "execution_count": 5,
     "metadata": {},
     "output_type": "execute_result"
    }
   ],
   "source": [
    "GrcDf = pd.read_csv(\"../K1_mi10_GRC.csv\")\n",
    "GrcDf.head()"
   ]
  },
  {
   "cell_type": "code",
   "execution_count": 6,
   "metadata": {},
   "outputs": [],
   "source": [
    "x = GrcDf[['Erm/Sci','Scm/Po','conf']].values\n",
    "y = GrcDf[['strain']].values"
   ]
  },
  {
   "cell_type": "code",
   "execution_count": 7,
   "metadata": {},
   "outputs": [
    {
     "name": "stdout",
     "output_type": "stream",
     "text": [
      "Train set: (352, 3) (352, 1)\n",
      "Test set: (88, 3) (88, 1)\n"
     ]
    }
   ],
   "source": [
    "from sklearn import preprocessing\n",
    "from sklearn.model_selection import train_test_split\n",
    "X = preprocessing.StandardScaler().fit(x).transform(x.astype(float))\n",
    "X_train, X_test, y_train, y_test = train_test_split( X, y, test_size=0.2, random_state=4)\n",
    "print ('Train set:', X_train.shape,  y_train.shape)\n",
    "print ('Test set:', X_test.shape,  y_test.shape)"
   ]
  },
  {
   "cell_type": "code",
   "execution_count": 8,
   "metadata": {},
   "outputs": [],
   "source": [
    "from sklearn.metrics import mean_absolute_error, mean_squared_error, r2_score"
   ]
  },
  {
   "cell_type": "code",
   "execution_count": 9,
   "metadata": {},
   "outputs": [
    {
     "data": {
      "image/png": "[encoded data removed]",
      "text/plain": [
       "<Figure size 640x480 with 1 Axes>"
      ]
     },
     "metadata": {},
     "output_type": "display_data"
    }
   ],
   "source": [
    "from sklearn.neighbors import KNeighborsRegressor\n",
    "k=1\n",
    "r2atk= np.zeros(10)\n",
    "maek = np.zeros(10)\n",
    "msek = np.zeros(10)\n",
    "\n",
    "for k in range(1,11):\n",
    "    knn_regk = KNeighborsRegressor(n_neighbors=k, metric='euclidean')\n",
    "    knn_regk.fit(X_train, y_train)\n",
    "    yhat = knn_regk.predict(X_test)\n",
    "    r2atk[k-1]=r2_score(y_test, yhat)\n",
    "    maek[k-1] = mean_absolute_error(y_test, yhat)\n",
    "    msek[k-1] = mean_squared_error(y_test, yhat)\n",
    "\n",
    "plt.plot(range(1,11), r2atk, 'g')\n",
    "plt.xlabel('k')\n",
    "plt.ylabel('r2 score')\n",
    "plt.show()\n"
   ]
  },
  {
   "cell_type": "code",
   "execution_count": null,
   "metadata": {},
   "outputs": [],
   "source": [
    "plt.plot(range(1,11), maek, 'g')\n",
    "plt.xlabel('k')\n",
    "plt.ylabel('maek')\n",
    "plt.show()"
   ]
  },
  {
   "cell_type": "code",
   "execution_count": null,
   "metadata": {},
   "outputs": [],
   "source": [
    "print(\"R^2 score for k=3:\", r2atk[1])\n",
    "print(\"MAE score for k=3:\", maek[1])\n",
    "print(\"MSE score for k=3:\", msek[1])"
   ]
  },
  {
   "cell_type": "code",
   "execution_count": null,
   "metadata": {},
   "outputs": [],
   "source": [
    "k=1    \n",
    "knn_regk = KNeighborsRegressor(n_neighbors=k, metric='euclidean')\n",
    "knn_regk.fit(X_train, y_train)\n",
    "yhat = knn_regk.predict(X_test)\n",
    "r2atk[k-1]=r2_score(y_test,yhat)\n",
    "maek[k-1] = mean_absolute_error(y_test, yhat)\n",
    "msek[k-1] = mean_squared_error(y_test, yhat)\n",
    "\n",
    "plt.scatter(y_test, yhat)\n",
    "plt.xlabel('Actual')\n",
    "plt.ylabel('Predicted')\n",
    "plt.title('Actual vs. Predicted Values')\n",
    "plt.show()"
   ]
  }
 ],
 "metadata": {
  "kernelspec": {
   "display_name": "ml",
   "language": "python",
   "name": "python3"
  },
  "language_info": {
   "codemirror_mode": {
    "name": "ipython",
    "version": 3
   },
   "file_extension": ".py",
   "mimetype": "text/x-python",
   "name": "python",
   "nbconvert_exporter": "python",
   "pygments_lexer": "ipython3",
   "version": "3.11.3"
  }
 },
 "nbformat": 4,
 "nbformat_minor": 2
}
