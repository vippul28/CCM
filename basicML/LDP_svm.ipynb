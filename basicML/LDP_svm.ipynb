{
 "cells": [
  {
   "cell_type": "code",
   "execution_count": 5,
   "metadata": {},
   "outputs": [],
   "source": [
    "import numpy as np\n",
    "from sklearn.svm import SVR\n",
    "import pandas as pd\n",
    "from sklearn.model_selection import train_test_split\n",
    "from sklearn.preprocessing import StandardScaler\n",
    "from sklearn.metrics import mean_squared_error, r2_score\n",
    "import matplotlib.pyplot as plt"
   ]
  },
  {
   "cell_type": "code",
   "execution_count": 6,
   "metadata": {},
   "outputs": [
    {
     "data": {
      "text/html": [
       "<div>\n",
       "<style scoped>\n",
       "    .dataframe tbody tr th:only-of-type {\n",
       "        vertical-align: middle;\n",
       "    }\n",
       "\n",
       "    .dataframe tbody tr th {\n",
       "        vertical-align: top;\n",
       "    }\n",
       "\n",
       "    .dataframe thead th {\n",
       "        text-align: right;\n",
       "    }\n",
       "</style>\n",
       "<table border=\"1\" class=\"dataframe\">\n",
       "  <thead>\n",
       "    <tr style=\"text-align: right;\">\n",
       "      <th></th>\n",
       "      <th>mi</th>\n",
       "      <th>Erm/Sci</th>\n",
       "      <th>Scm/Po</th>\n",
       "      <th>Distance</th>\n",
       "      <th>X*</th>\n",
       "      <th>R*</th>\n",
       "      <th>u0*</th>\n",
       "      <th>u*</th>\n",
       "      <th>Ur</th>\n",
       "      <th>strain</th>\n",
       "    </tr>\n",
       "  </thead>\n",
       "  <tbody>\n",
       "    <tr>\n",
       "      <th>0</th>\n",
       "      <td>10</td>\n",
       "      <td>22.95</td>\n",
       "      <td>0.1</td>\n",
       "      <td>-12</td>\n",
       "      <td>-2.4</td>\n",
       "      <td>5.74</td>\n",
       "      <td>0.140913</td>\n",
       "      <td>0.012783</td>\n",
       "      <td>0.040907</td>\n",
       "      <td>0.818134</td>\n",
       "    </tr>\n",
       "    <tr>\n",
       "      <th>1</th>\n",
       "      <td>10</td>\n",
       "      <td>22.95</td>\n",
       "      <td>0.1</td>\n",
       "      <td>-11</td>\n",
       "      <td>-2.2</td>\n",
       "      <td>5.74</td>\n",
       "      <td>0.140913</td>\n",
       "      <td>0.015614</td>\n",
       "      <td>0.049964</td>\n",
       "      <td>0.999271</td>\n",
       "    </tr>\n",
       "    <tr>\n",
       "      <th>2</th>\n",
       "      <td>10</td>\n",
       "      <td>22.95</td>\n",
       "      <td>0.1</td>\n",
       "      <td>-10</td>\n",
       "      <td>-2.0</td>\n",
       "      <td>5.74</td>\n",
       "      <td>0.140913</td>\n",
       "      <td>0.019071</td>\n",
       "      <td>0.061026</td>\n",
       "      <td>1.220512</td>\n",
       "    </tr>\n",
       "    <tr>\n",
       "      <th>3</th>\n",
       "      <td>10</td>\n",
       "      <td>22.95</td>\n",
       "      <td>0.1</td>\n",
       "      <td>-9</td>\n",
       "      <td>-1.8</td>\n",
       "      <td>5.74</td>\n",
       "      <td>0.140913</td>\n",
       "      <td>0.023293</td>\n",
       "      <td>0.074537</td>\n",
       "      <td>1.490737</td>\n",
       "    </tr>\n",
       "    <tr>\n",
       "      <th>4</th>\n",
       "      <td>10</td>\n",
       "      <td>22.95</td>\n",
       "      <td>0.1</td>\n",
       "      <td>-8</td>\n",
       "      <td>-1.6</td>\n",
       "      <td>5.74</td>\n",
       "      <td>0.140913</td>\n",
       "      <td>0.028450</td>\n",
       "      <td>0.091040</td>\n",
       "      <td>1.820791</td>\n",
       "    </tr>\n",
       "  </tbody>\n",
       "</table>\n",
       "</div>"
      ],
      "text/plain": [
       "   mi  Erm/Sci  Scm/Po  Distance   X*    R*       u0*        u*        Ur  \\\n",
       "0  10    22.95     0.1       -12 -2.4  5.74  0.140913  0.012783  0.040907   \n",
       "1  10    22.95     0.1       -11 -2.2  5.74  0.140913  0.015614  0.049964   \n",
       "2  10    22.95     0.1       -10 -2.0  5.74  0.140913  0.019071  0.061026   \n",
       "3  10    22.95     0.1        -9 -1.8  5.74  0.140913  0.023293  0.074537   \n",
       "4  10    22.95     0.1        -8 -1.6  5.74  0.140913  0.028450  0.091040   \n",
       "\n",
       "     strain  \n",
       "0  0.818134  \n",
       "1  0.999271  \n",
       "2  1.220512  \n",
       "3  1.490737  \n",
       "4  1.820791  "
      ]
     },
     "execution_count": 6,
     "metadata": {},
     "output_type": "execute_result"
    }
   ],
   "source": [
    "ldpdf = pd.read_csv('../K1_mi10_LDP.csv')\n",
    "ldpdf.head()"
   ]
  },
  {
   "cell_type": "code",
   "execution_count": 7,
   "metadata": {},
   "outputs": [
    {
     "name": "stdout",
     "output_type": "stream",
     "text": [
      "Train set: (2745, 3) (2745, 1)\n",
      "Test set: (687, 3) (687, 1)\n"
     ]
    }
   ],
   "source": [
    "x = ldpdf[['Erm/Sci','Scm/Po','X*']].values\n",
    "y = ldpdf[['strain']].values\n",
    "x_train, x_test, y_train, y_test = train_test_split( x, y, test_size=0.2, random_state=4)\n",
    "print ('Train set:', x_train.shape,  y_train.shape)\n",
    "print ('Test set:', x_test.shape,  y_test.shape)"
   ]
  },
  {
   "cell_type": "code",
   "execution_count": 8,
   "metadata": {},
   "outputs": [],
   "source": [
    "scaler = StandardScaler()\n",
    "x_train = scaler.fit_transform(x_train)\n",
    "x_test = scaler.fit_transform(x_test)"
   ]
  },
  {
   "cell_type": "code",
   "execution_count": 9,
   "metadata": {},
   "outputs": [
    {
     "name": "stderr",
     "output_type": "stream",
     "text": [
      "/Users/vippul/Desktop/Desk/BITS/TS-Geotech/Code/ml/lib/python3.11/site-packages/sklearn/utils/validation.py:1184: DataConversionWarning: A column-vector y was passed when a 1d array was expected. Please change the shape of y to (n_samples, ), for example using ravel().\n",
      "  y = column_or_1d(y, warn=True)\n"
     ]
    }
   ],
   "source": [
    "svr = SVR(kernel='rbf', C=1.0, epsilon=0.1)\n",
    "svr.fit(x_train, y_train)\n",
    "y_pred = svr.predict(x_test)\n",
    "\n"
   ]
  },
  {
   "cell_type": "code",
   "execution_count": 10,
   "metadata": {},
   "outputs": [
    {
     "name": "stdout",
     "output_type": "stream",
     "text": [
      "MSE: 23.649915208689595\n",
      "RMSE: 4.86311784852985\n",
      "R-squared: 0.8027053805553945\n"
     ]
    }
   ],
   "source": [
    "mse = mean_squared_error(y_test, y_pred)\n",
    "rmse = np.sqrt(mse)\n",
    "r2 = r2_score(y_test, y_pred)\n",
    "print(f'MSE: {mse}')\n",
    "print(f'RMSE: {rmse}')\n",
    "print(f'R-squared: {r2}')\n"
   ]
  },
  {
   "cell_type": "code",
   "execution_count": 11,
   "metadata": {},
   "outputs": [
    {
     "data": {
      "image/png": "[encoded data removed]",
      "text/plain": [
       "<Figure size 640x480 with 1 Axes>"
      ]
     },
     "metadata": {},
     "output_type": "display_data"
    }
   ],
   "source": [
    "plt.scatter(y_test, y_pred)\n",
    "plt.xlabel('Actual')\n",
    "plt.ylabel('Predicted')\n",
    "plt.title('Actual vs. Predicted Values')\n",
    "plt.show()\n"
   ]
  },
  {
   "cell_type": "code",
   "execution_count": null,
   "metadata": {},
   "outputs": [],
   "source": []
  }
 ],
 "metadata": {
  "kernelspec": {
   "display_name": "ml",
   "language": "python",
   "name": "python3"
  },
  "language_info": {
   "codemirror_mode": {
    "name": "ipython",
    "version": 3
   },
   "file_extension": ".py",
   "mimetype": "text/x-python",
   "name": "python",
   "nbconvert_exporter": "python",
   "pygments_lexer": "ipython3",
   "version": "3.11.3"
  }
 },
 "nbformat": 4,
 "nbformat_minor": 2
}
