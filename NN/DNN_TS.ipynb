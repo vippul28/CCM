{
 "cells": [
  {
   "cell_type": "code",
   "execution_count": 1,
   "metadata": {},
   "outputs": [],
   "source": [
    "import time\n",
    "import numpy as np\n",
    "import matplotlib.pyplot as plt\n",
    "from LDNN import *\n",
    "from Data import *\n",
    "\n",
    "%matplotlib inline"
   ]
  },
  {
   "cell_type": "markdown",
   "metadata": {},
   "source": [
    "## Loading data"
   ]
  },
  {
   "cell_type": "code",
   "execution_count": 2,
   "metadata": {},
   "outputs": [
    {
     "name": "stdout",
     "output_type": "stream",
     "text": [
      "X features: \n",
      "   Erm/Sci  Scm/Po  conf\n",
      "0    39.76     0.2    90\n",
      "1    39.76     0.2    80\n",
      "2    39.76     0.2    70\n",
      "3    39.76     0.2    60\n",
      "4    39.76     0.2    50\n",
      "Y features: \n",
      "   strain\n",
      "0   0.126\n",
      "1   0.260\n",
      "2   0.380\n",
      "3   0.500\n",
      "4   0.640\n",
      "shape of X_train:  (3, 342)\n",
      "shape of y_train:  (1, 342)\n",
      "shape of X_test:  (3, 86)\n",
      "shape of y_test:  (1, 86)\n"
     ]
    }
   ],
   "source": [
    "X_train, X_test, y_train, y_test = load_data(\"K1_mi10_GRC.csv\", \"MinMax\", True)"
   ]
  },
  {
   "cell_type": "markdown",
   "metadata": {},
   "source": [
    "## 2 Layer model"
   ]
  },
  {
   "cell_type": "code",
   "execution_count": 3,
   "metadata": {},
   "outputs": [],
   "source": [
    "layers_dims = [3, 6, 1] #  2-layer model"
   ]
  },
  {
   "cell_type": "code",
   "execution_count": 4,
   "metadata": {},
   "outputs": [
    {
     "name": "stdout",
     "output_type": "stream",
     "text": [
      "Cost after iteration 0: 31.097225877978747\n",
      "Cost after iteration 100: 28.160372042091012\n"
     ]
    },
    {
     "name": "stdout",
     "output_type": "stream",
     "text": [
      "Cost after iteration 200: 25.771595561665357\n",
      "Cost after iteration 300: 21.627336056758953\n",
      "Cost after iteration 400: 18.437339350523086\n",
      "Cost after iteration 500: 15.937070554548711\n",
      "Cost after iteration 600: 13.919547221071973\n",
      "Cost after iteration 700: 12.298108493036034\n",
      "Cost after iteration 800: 10.959100673228999\n",
      "Cost after iteration 900: 9.861444030690018\n",
      "Cost after iteration 1000: 8.948721094834337\n",
      "Cost after iteration 1100: 8.18659948341874\n",
      "Cost after iteration 1200: 7.552376444899429\n",
      "Cost after iteration 1300: 6.997806373488362\n",
      "Cost after iteration 1400: 6.452585908412178\n",
      "Cost after iteration 1500: 5.957297503745105\n",
      "Cost after iteration 1600: 5.4782697020486655\n",
      "Cost after iteration 1700: 5.071705397397453\n",
      "Cost after iteration 1800: 4.71639813496042\n",
      "Cost after iteration 1900: 4.409510599479253\n",
      "Cost after iteration 2000: 4.145117364677023\n",
      "Cost after iteration 2100: 3.898527746184379\n",
      "Cost after iteration 2200: 3.674163776870899\n",
      "Cost after iteration 2300: 3.4670930245006755\n",
      "Cost after iteration 2400: 3.273887216512947\n",
      "Cost after iteration 2500: 3.0959307244359864\n",
      "Cost after iteration 2600: 2.9325763591893823\n",
      "Cost after iteration 2700: 2.7832073892695446\n",
      "Cost after iteration 2800: 2.6475587713415654\n",
      "Cost after iteration 2900: 2.529847493234071\n",
      "Cost after iteration 2999: 2.425452169328901\n"
     ]
    }
   ],
   "source": [
    "parameters, costs = L_layer_model(X_train, y_train, layers_dims, num_iterations = 3000, print_cost = True)"
   ]
  },
  {
   "cell_type": "markdown",
   "metadata": {},
   "source": [
    "### Predicting on train set"
   ]
  },
  {
   "cell_type": "code",
   "execution_count": 5,
   "metadata": {},
   "outputs": [
    {
     "name": "stdout",
     "output_type": "stream",
     "text": [
      "Accuracy MSE: 2.4244522087673395\n"
     ]
    }
   ],
   "source": [
    "pred_train2 = predict(X_train, y_train, parameters)"
   ]
  },
  {
   "cell_type": "code",
   "execution_count": 6,
   "metadata": {},
   "outputs": [
    {
     "data": {
      "image/png": "[encoded data removed]",
      "text/plain": [
       "<Figure size 640x480 with 1 Axes>"
      ]
     },
     "metadata": {},
     "output_type": "display_data"
    }
   ],
   "source": [
    "#plotpred(pred_train2,y_train)\n",
    "plt.figure()\n",
    "x= pred_train2\n",
    "y= y_train\n",
    "plt.scatter(x, y, color='blue', marker='o', label='Actual vs. Predicted')\n",
    "\n",
    "# Plot the ideal line\n",
    "plt.plot(x, x, color='red', label='Ideal Line')\n",
    "\n",
    "# Adding labels and title\n",
    "plt.xlabel('Predicted Values')\n",
    "plt.ylabel('Actual Values')\n",
    "plt.title('Actual vs. Predicted Values')\n",
    "plt.grid(True)\n",
    "plt.show()"
   ]
  },
  {
   "cell_type": "code",
   "execution_count": 16,
   "metadata": {},
   "outputs": [
    {
     "data": {
      "text/html": [
       "<div>\n",
       "<style scoped>\n",
       "    .dataframe tbody tr th:only-of-type {\n",
       "        vertical-align: middle;\n",
       "    }\n",
       "\n",
       "    .dataframe tbody tr th {\n",
       "        vertical-align: top;\n",
       "    }\n",
       "\n",
       "    .dataframe thead th {\n",
       "        text-align: right;\n",
       "    }\n",
       "</style>\n",
       "<table border=\"1\" class=\"dataframe\">\n",
       "  <thead>\n",
       "    <tr style=\"text-align: right;\">\n",
       "      <th></th>\n",
       "      <th>Predictions</th>\n",
       "      <th>Actual values</th>\n",
       "    </tr>\n",
       "  </thead>\n",
       "  <tbody>\n",
       "    <tr>\n",
       "      <th>0</th>\n",
       "      <td>0.226947</td>\n",
       "      <td>0.118</td>\n",
       "    </tr>\n",
       "    <tr>\n",
       "      <th>1</th>\n",
       "      <td>0.054009</td>\n",
       "      <td>0.108</td>\n",
       "    </tr>\n",
       "    <tr>\n",
       "      <th>2</th>\n",
       "      <td>0.679334</td>\n",
       "      <td>0.400</td>\n",
       "    </tr>\n",
       "    <tr>\n",
       "      <th>3</th>\n",
       "      <td>1.718668</td>\n",
       "      <td>2.880</td>\n",
       "    </tr>\n",
       "    <tr>\n",
       "      <th>4</th>\n",
       "      <td>0.986702</td>\n",
       "      <td>0.874</td>\n",
       "    </tr>\n",
       "    <tr>\n",
       "      <th>...</th>\n",
       "      <td>...</td>\n",
       "      <td>...</td>\n",
       "    </tr>\n",
       "    <tr>\n",
       "      <th>65</th>\n",
       "      <td>0.376252</td>\n",
       "      <td>0.136</td>\n",
       "    </tr>\n",
       "    <tr>\n",
       "      <th>66</th>\n",
       "      <td>17.292928</td>\n",
       "      <td>14.800</td>\n",
       "    </tr>\n",
       "    <tr>\n",
       "      <th>67</th>\n",
       "      <td>0.481868</td>\n",
       "      <td>0.300</td>\n",
       "    </tr>\n",
       "    <tr>\n",
       "      <th>68</th>\n",
       "      <td>0.178114</td>\n",
       "      <td>0.156</td>\n",
       "    </tr>\n",
       "    <tr>\n",
       "      <th>69</th>\n",
       "      <td>0.516333</td>\n",
       "      <td>0.300</td>\n",
       "    </tr>\n",
       "  </tbody>\n",
       "</table>\n",
       "<p>70 rows × 2 columns</p>\n",
       "</div>"
      ],
      "text/plain": [
       "    Predictions  Actual values\n",
       "0      0.226947          0.118\n",
       "1      0.054009          0.108\n",
       "2      0.679334          0.400\n",
       "3      1.718668          2.880\n",
       "4      0.986702          0.874\n",
       "..          ...            ...\n",
       "65     0.376252          0.136\n",
       "66    17.292928         14.800\n",
       "67     0.481868          0.300\n",
       "68     0.178114          0.156\n",
       "69     0.516333          0.300\n",
       "\n",
       "[70 rows x 2 columns]"
      ]
     },
     "execution_count": 16,
     "metadata": {},
     "output_type": "execute_result"
    }
   ],
   "source": [
    "dfpred = pd.DataFrame({'Predictions': pred_train2.flatten(), 'Actual values': y_train.flatten()})\n",
    "dfpred.head(70)"
   ]
  },
  {
   "cell_type": "code",
   "execution_count": 9,
   "metadata": {},
   "outputs": [
    {
     "name": "stdout",
     "output_type": "stream",
     "text": [
      "1700.0\n"
     ]
    }
   ],
   "source": [
    "acc_train2 = accuracy(pred_train2, y_train)\n",
    "print(acc_train2)"
   ]
  },
  {
   "cell_type": "markdown",
   "metadata": {},
   "source": [
    "### Predicting on test set"
   ]
  },
  {
   "cell_type": "code",
   "execution_count": 8,
   "metadata": {},
   "outputs": [
    {
     "name": "stdout",
     "output_type": "stream",
     "text": [
      "Accuracy MSE: 0.2181060688823024\n"
     ]
    }
   ],
   "source": [
    "pred_test2 = predict(X_test, y_test, parameters)"
   ]
  },
  {
   "cell_type": "code",
   "execution_count": 9,
   "metadata": {},
   "outputs": [
    {
     "data": {
      "image/png": "[encoded data removed]",
      "text/plain": [
       "<Figure size 640x480 with 1 Axes>"
      ]
     },
     "metadata": {},
     "output_type": "display_data"
    }
   ],
   "source": [
    "plotpred(pred_test2, y_test)"
   ]
  },
  {
   "cell_type": "code",
   "execution_count": 12,
   "metadata": {},
   "outputs": [
    {
     "name": "stdout",
     "output_type": "stream",
     "text": [
      "600.0\n"
     ]
    }
   ],
   "source": [
    "acc2test = accuracy(pred_test2, y_test)\n",
    "print(acc2test)"
   ]
  },
  {
   "cell_type": "markdown",
   "metadata": {},
   "source": [
    "## 4 Layer Model"
   ]
  },
  {
   "cell_type": "code",
   "execution_count": null,
   "metadata": {},
   "outputs": [],
   "source": [
    "layers_dims4 = (3, 7, 7, 4, 1) #model of  4layers\n",
    "parameters4, costs = L_layer_model(X_train, y_train, layers_dims4, num_iterations = 3000, print_cost = True)"
   ]
  },
  {
   "cell_type": "code",
   "execution_count": null,
   "metadata": {},
   "outputs": [],
   "source": [
    "pred_train4 = predict(X_train, y_train, parameters4)\n",
    "plt.scatter(pred_train4, y_train, color='blue', marker='o', label='Actual vs. Predicted')\n",
    "plt.plot([min(y_train), max(y_train)], [min(y_train), max(y_train)], linestyle='--', color='red', label='Ideal Line')\n",
    "\n",
    "# Adding labels and title\n",
    "plt.xlabel('Actual Values')\n",
    "plt.ylabel('Predicted Values')\n",
    "plt.title('Actual vs. Predicted Values')"
   ]
  },
  {
   "cell_type": "code",
   "execution_count": null,
   "metadata": {},
   "outputs": [],
   "source": [
    "condition = np.logical_and(pred_train4 < 1.1 * y_train, pred_train4 > 0.90 * y_train)\n",
    "t = np.count_nonzero(condition)\n",
    "percentage = (t / len(x)) * 100\n",
    "print(percentage)"
   ]
  },
  {
   "cell_type": "code",
   "execution_count": null,
   "metadata": {},
   "outputs": [],
   "source": [
    "pred_test4 = predict(X_test, y_test, parameters)\n",
    "plt.scatter(pred_test4, y_test, color='blue', marker='o', label='Actual vs. Predicted')\n",
    "plt.plot( pred_test4, pred_test4, linestyle='--', color='red', label='Ideal Line')\n",
    "\n",
    "# Adding labels and title\n",
    "plt.xlabel('Actual Values')\n",
    "plt.ylabel('Predicted Values')\n",
    "plt.title('Actual vs. Predicted Values')\n",
    "plt.show()"
   ]
  },
  {
   "cell_type": "code",
   "execution_count": null,
   "metadata": {},
   "outputs": [],
   "source": [
    "condition = np.logical_and(pred_test4 < 1.05 * y_test, pred_test4 > 0.95 * y_test)\n",
    "t = np.count_nonzero(condition)\n",
    "percentage = (t / len(x)) * 100\n",
    "print(percentage)"
   ]
  },
  {
   "cell_type": "markdown",
   "metadata": {},
   "source": [
    "## Predicting on 7 Layer model"
   ]
  },
  {
   "cell_type": "code",
   "execution_count": null,
   "metadata": {},
   "outputs": [],
   "source": [
    "layers_dims7 = (3, 16, 16, 16, 16, 16, 16, 1) #model of  4layers\n",
    "parameters7, costs7 = L_layer_model(X_train, y_train, layers_dims4, num_iterations = 3000, print_cost = True)"
   ]
  },
  {
   "cell_type": "code",
   "execution_count": null,
   "metadata": {},
   "outputs": [],
   "source": [
    "pred_train7 = predict(X_train, y_train, parameters7)\n",
    "plt.scatter(pred_train7, y_train, color='blue', marker='o', label='Actual vs. Predicted')\n",
    "plt.plot(y_train, y_train, linestyle='--', color='red', label='Ideal Line')\n",
    "\n",
    "# Adding labels and title\n",
    "plt.xlabel('Actual Values')\n",
    "plt.ylabel('Predicted Values')\n",
    "plt.title('Actual vs. Predicted Values')\n",
    "plt.show()"
   ]
  },
  {
   "cell_type": "code",
   "execution_count": null,
   "metadata": {},
   "outputs": [],
   "source": [
    "condition = np.logical_and(pred_train7 < 1.1 * y_train, pred_train7 > 0.90 * y_train)\n",
    "t = np.count_nonzero(condition)\n",
    "percentage = (t / len(x)) * 100\n",
    "print(percentage)"
   ]
  },
  {
   "cell_type": "code",
   "execution_count": null,
   "metadata": {},
   "outputs": [],
   "source": []
  }
 ],
 "metadata": {
  "coursera": {
   "course_slug": "neural-networks-deep-learning",
   "graded_item_id": "TSPse",
   "launcher_item_id": "24mxX"
  },
  "kernelspec": {
   "display_name": "Python 3",
   "language": "python",
   "name": "python3"
  },
  "language_info": {
   "codemirror_mode": {
    "name": "ipython",
    "version": 3
   },
   "file_extension": ".py",
   "mimetype": "text/x-python",
   "name": "python",
   "nbconvert_exporter": "python",
   "pygments_lexer": "ipython3",
   "version": "3.11.3"
  }
 },
 "nbformat": 4,
 "nbformat_minor": 2
}
